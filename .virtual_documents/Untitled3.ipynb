import pandas as pd
import numpy as np
import matplotlib.pyplot as plt
import seaborn as sns
sns.set()


df2021_0 = pd.read_csv('minutes_watched_2021_paid_0.csv')
df2021_1 = pd.read_csv('minutes_watched_2021_paid_1.csv')
df2022_0 = pd.read_csv('minutes_watched_2022_paid_0.csv')
df2022_1 = pd.read_csv('minutes_watched_2022_paid_1.csv')


sns.kdeplot(df2021_0['minutes_watched'], color="blue", fill=True, label="Dataset 1")


sns.kdeplot(df2021_1['minutes_watched'], color="red", fill=True, label="Dataset 2")


sns.kdeplot(df2022_0['minutes_watched'], color="green", fill=True, label="Dataset 2")


sns.kdeplot(df2022_1['minutes_watched'], color="purple", fill=True, label="Dataset 2")


q = df2021_0['minutes_watched'].quantile(0.99)
df2021_0_q = df2021_0[df2021_0['minutes_watched']<q]
df2021_0_q = df2021_0_q[df2021_0_q['minutes_watched']>0]
sns.histplot(df2021_0_q['minutes_watched'],bins=40, color="blue")


q2 = df2021_1['minutes_watched'].quantile(0.99)
df2021_1_q = df2021_1[df2021_1['minutes_watched']<q2]
sns.histplot(df2021_1_q['minutes_watched'],color='red',bins=40)


q3 = df2022_0['minutes_watched'].quantile(0.99)
df2022_0_q = df2022_0[df2022_0['minutes_watched']<q3]
sns.histplot(df2022_0_q['minutes_watched'],color='green',bins=40)


q4 = df2022_1['minutes_watched'].quantile(0.99)
df2022_1_q = df2022_1[df2022_1['minutes_watched']<q4]
sns.histplot(df2022_1_q['minutes_watched'],color='purple',bins=40)


df2021_0_q.to_csv('minutes_watched_2021_paid_0_no_outliers',index=False)


df2021_1_q.to_csv('minutes_watched_2021_paid_1_no_outliers',index=False)


df2022_0_q.to_csv('minutes_watched_2022_paid_0_no_outliers',index=False)


df2022_1_q.to_csv('minutes_watched_2022_paid_1_no_outliers',index=False)


df2021_0_q['minutes_watched'].describe()


df2021_1_q['minutes_watched'].describe()


df2022_0_q['minutes_watched'].describe()


df2022_1_q['minutes_watched'].describe()


df2022_1_q['minutes_watched'].quantile(0.95)


df2022_0_q['minutes_watched'].quantile(0.95)


df2021_1_q['minutes_watched'].quantile(0.95)


df2021_0_q['minutes_watched'].quantile(0.95)



